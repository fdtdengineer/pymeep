{
 "cells": [
  {
   "cell_type": "code",
   "execution_count": 2,
   "metadata": {},
   "outputs": [
    {
     "name": "stdout",
     "output_type": "stream",
     "text": [
      "-----------\n",
      "Initializing structure...\n",
      "time for choose_chunkdivision = 1.19209e-05 s\n",
      "Working in 3D dimensions.\n",
      "Computational cell is 2 x 2 x 2 with resolution 50\n",
      "     prism, center = (0,0,0.5)\n",
      "          height 1, axis (0,0,1), sidewall angle: 0 radians, 6 vertices:\n",
      "          (-1,0,0)\n",
      "          (-0.5,0.866025,0)\n",
      "          (0.5,0.866025,0)\n",
      "          (1,0,0)\n",
      "          (0.5,-0.866025,0)\n",
      "          (-0.5,-0.866025,0)\n",
      "          dielectric constant epsilon diagonal = (12.25,12.25,12.25)\n",
      "     cone, center = (0,0,0)\n",
      "          radius 1, height 2, axis (0, 0, 1)\n",
      "          radius2 0.1\n",
      "          dielectric constant epsilon diagonal = (1,1,1)\n",
      "subpixel-averaging is 37.3676% done, 6.7239 s remaining\n",
      "subpixel-averaging is 56.6824% done, 3.06597 s remaining\n",
      "subpixel-averaging is 81.8207% done, 0.890071 s remaining\n",
      "subpixel-averaging is 28.5353% done, 10.0381 s remaining\n",
      "subpixel-averaging is 49.8882% done, 4.0948 s remaining\n",
      "subpixel-averaging is 70.2706% done, 1.69396 s remaining\n",
      "subpixel-averaging is 97.5442% done, 0.100819 s remaining\n",
      "subpixel-averaging is 28.9235% done, 9.83389 s remaining\n",
      "subpixel-averaging is 50.1794% done, 4.00552 s remaining\n",
      "subpixel-averaging is 71.5324% done, 1.59584 s remaining\n",
      "time for set_epsilon = 46.9874 s\n",
      "-----------\n"
     ]
    }
   ],
   "source": [
    "import meep as mp\n",
    "import numpy as np\n",
    "import math\n",
    "\n",
    "cell_size = mp.Vector3(2,2,2)\n",
    "\n",
    "# A hexagon is defined as a prism with six vertices centered on the origin\n",
    "vertices = [mp.Vector3(-1,0),\n",
    "            mp.Vector3(-0.5,math.sqrt(3)/2),\n",
    "            mp.Vector3(0.5,math.sqrt(3)/2),\n",
    "            mp.Vector3(1,0),\n",
    "            mp.Vector3(0.5,-math.sqrt(3)/2),\n",
    "            mp.Vector3(-0.5,-math.sqrt(3)/2)]\n",
    "\n",
    "geometry = [mp.Prism(vertices, height=1.0, material=mp.Medium(index=3.5)),\n",
    "            mp.Cone(radius=1.0, radius2=0.1, height=2.0, material=mp.air)]\n",
    "\n",
    "sim = mp.Simulation(resolution=50,\n",
    "                    cell_size=cell_size,\n",
    "                    geometry=geometry)\n",
    "\n",
    "sim.init_sim()\n",
    "\n",
    "eps_data = sim.get_epsilon()\n",
    "\n",
    "from mayavi import mlab\n",
    "s = mlab.contour3d(eps_data, colormap=\"Greys\")\n",
    "mlab.show()"
   ]
  },
  {
   "cell_type": "code",
   "execution_count": null,
   "metadata": {},
   "outputs": [],
   "source": []
  }
 ],
 "metadata": {
  "kernelspec": {
   "display_name": "meep",
   "language": "python",
   "name": "meep"
  },
  "language_info": {
   "codemirror_mode": {
    "name": "ipython",
    "version": 3
   },
   "file_extension": ".py",
   "mimetype": "text/x-python",
   "name": "python",
   "nbconvert_exporter": "python",
   "pygments_lexer": "ipython3",
   "version": "3.7.6"
  }
 },
 "nbformat": 4,
 "nbformat_minor": 2
}
