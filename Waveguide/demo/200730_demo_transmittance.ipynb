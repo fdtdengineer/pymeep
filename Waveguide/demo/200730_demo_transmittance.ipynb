{
 "cells": [
  {
   "cell_type": "code",
   "execution_count": 1,
   "metadata": {},
   "outputs": [],
   "source": [
    "import meep as mp\n",
    "import numpy as np\n",
    "import matplotlib.pyplot as plt"
   ]
  },
  {
   "cell_type": "code",
   "execution_count": 2,
   "metadata": {},
   "outputs": [
    {
     "name": "stdout",
     "output_type": "stream",
     "text": [
      "-----------\n",
      "Initializing structure...\n",
      "time for choose_chunkdivision = 0.000289202 s\n",
      "Working in 2D dimensions.\n",
      "Computational cell is 16 x 32 x 0 with resolution 10\n",
      "     block, center = (0,-11.5,0)\n",
      "          size (1e+20,1,1e+20)\n",
      "          axes (1,0,0), (0,1,0), (0,0,1)\n",
      "          dielectric constant epsilon diagonal = (12,12,12)\n",
      "time for set_epsilon = 0.0784209 s\n",
      "-----------\n",
      "field decay(t = 50.050000000000004): 4.825189380557793e-09 / 4.825189380557793e-09 = 1.0\n",
      "field decay(t = 100.05000000000001): 0.028801809879425856 / 0.028801809879425856 = 1.0\n",
      "field decay(t = 150.1): 0.026893465093385728 / 0.028801809879425856 = 0.9337421921042772\n",
      "field decay(t = 200.15): 2.315839733669588e-13 / 0.028801809879425856 = 8.040604890333206e-12\n",
      "run 0 finished at t = 200.15 (4003 timesteps)\n"
     ]
    }
   ],
   "source": [
    "# 直線導波路と曲げ導波路の透過率を比較\n",
    "resolution = 10 # pixels/um\n",
    "\n",
    "sx = 16  # size of cell in X direction\n",
    "sy = 32  # size of cell in Y direction\n",
    "cell = mp.Vector3(sx,sy,0)\n",
    "\n",
    "dpml = 1.0\n",
    "pml_layers = [mp.PML(dpml)]\n",
    "\n",
    "pad = 4  # padding distance between waveguide and cell edge\n",
    "w = 1    # width of waveguide\n",
    "\n",
    "wvg_xcen =  0.5*(sx-w-2*pad)  # x center of horiz. wvg\n",
    "wvg_ycen = -0.5*(sy-w-2*pad)  # y center of vert. wvg\n",
    "\n",
    "geometry = [mp.Block(size=mp.Vector3(mp.inf,w,mp.inf),\n",
    "                     center=mp.Vector3(0,wvg_ycen,0),\n",
    "                     material=mp.Medium(epsilon=12))]\n",
    "fcen = 0.15  # pulse center frequency\n",
    "df = 0.1     # pulse width (in frequency)\n",
    "sources = [mp.Source(mp.GaussianSource(fcen,fwidth=df),\n",
    "                     component=mp.Ez,\n",
    "                     center=mp.Vector3(-0.5*sx+dpml,wvg_ycen,0),\n",
    "                     size=mp.Vector3(0,w,0))]\n",
    "\n",
    "sim = mp.Simulation(cell_size=cell,\n",
    "                    boundary_layers=pml_layers,\n",
    "                    geometry=geometry,\n",
    "                    sources=sources,\n",
    "                    resolution=resolution)\n",
    "\n",
    "nfreq = 100  # number of frequencies at which to compute flux\n",
    "\n",
    "# reflected flux\n",
    "refl_fr = mp.FluxRegion(center=mp.Vector3(-0.5*sx+dpml+0.5,wvg_ycen,0), size=mp.Vector3(0,2*w,0))                            \n",
    "refl = sim.add_flux(fcen, df, nfreq, refl_fr)\n",
    "\n",
    "# transmitted flux\n",
    "tran_fr = mp.FluxRegion(center=mp.Vector3(0.5*sx-dpml,wvg_ycen,0), size=mp.Vector3(0,2*w,0))\n",
    "tran = sim.add_flux(fcen, df, nfreq, tran_fr)\n",
    "\n",
    "pt = mp.Vector3(0.5*sx-dpml-0.5,wvg_ycen)\n",
    "\n",
    "sim.run(until_after_sources=mp.stop_when_fields_decayed(50,mp.Ez,pt,1e-3))\n",
    "\n",
    "# for normalization run, save flux fields data for reflection plane\n",
    "straight_refl_data = sim.get_flux_data(refl)\n",
    "\n",
    "# save incident power for transmission plane\n",
    "straight_tran_flux = mp.get_fluxes(tran)"
   ]
  },
  {
   "cell_type": "code",
   "execution_count": 4,
   "metadata": {},
   "outputs": [
    {
     "data": {
      "text/plain": [
       "[3.6344839780120216e-05,\n",
       " 5.530573870925146e-05,\n",
       " 8.346241860311178e-05,\n",
       " 0.000124913017177171,\n",
       " 0.0001854043732102034,\n",
       " 0.00027291322830141755,\n",
       " 0.0003983969340442176,\n",
       " 0.0005767490230155156,\n",
       " 0.0008279971746099523,\n",
       " 0.0011787813680819194,\n",
       " 0.0016641475322476892,\n",
       " 0.002329685845288319,\n",
       " 0.003234032035081579,\n",
       " 0.004451733636126459,\n",
       " 0.006076460354958136,\n",
       " 0.008224507901672357,\n",
       " 0.01103850763929529,\n",
       " 0.014691210446019247,\n",
       " 0.01938916314654675,\n",
       " 0.02537604135780302,\n",
       " 0.03293534610860754,\n",
       " 0.0423921166753547,\n",
       " 0.05411326346083998,\n",
       " 0.06850608844145419,\n",
       " 0.08601454394868178,\n",
       " 0.10711279149215083,\n",
       " 0.13229566945171617,\n",
       " 0.16206576959770222,\n",
       " 0.19691696343326,\n",
       " 0.23731441273473095,\n",
       " 0.2836713418721354,\n",
       " 0.336323133764616,\n",
       " 0.3954996209390163,\n",
       " 0.46129675548284277,\n",
       " 0.5336491282266064,\n",
       " 0.6123050360148334,\n",
       " 0.6968059335365955,\n",
       " 0.7864721231930452,\n",
       " 0.8803964105975373,\n",
       " 0.9774471736629875,\n",
       " 1.0762818635255362,\n",
       " 1.175371395687689,\n",
       " 1.2730352354722871,\n",
       " 1.3674862820802067,\n",
       " 1.4568839675851537,\n",
       " 1.5393933705666647,\n",
       " 1.6132476535417124,\n",
       " 1.676810812618953,\n",
       " 1.728637604776763,\n",
       " 1.7675276025061908,\n",
       " 1.7925706087088025,\n",
       " 1.803181122224666,\n",
       " 1.799120139617009,\n",
       " 1.780503267682045,\n",
       " 1.7477948561764007,\n",
       " 1.7017885945116893,\n",
       " 1.6435757059724216,\n",
       " 1.5745024799251122,\n",
       " 1.4961193746739843,\n",
       " 1.4101242768959659,\n",
       " 1.3183027022440432,\n",
       " 1.2224677591632933,\n",
       " 1.1244025771478279,\n",
       " 1.0258076339638291,\n",
       " 0.9282550249975604,\n",
       " 0.8331512306610779,\n",
       " 0.7417093892159059,\n",
       " 0.6549315102712796,\n",
       " 0.5736005069228209,\n",
       " 0.49828141794497716,\n",
       " 0.42933076628937955,\n",
       " 0.36691267927670734,\n",
       " 0.3110201926752279,\n",
       " 0.2615000783428149,\n",
       " 0.2180795661955778,\n",
       " 0.18039346018415456,\n",
       " 0.1480103525497194,\n",
       " 0.12045689521794763,\n",
       " 0.09723936556443315,\n",
       " 0.07786204188471968,\n",
       " 0.06184216182005456,\n",
       " 0.0487214601590067,\n",
       " 0.038074461969405046,\n",
       " 0.029513839345880966,\n",
       " 0.022693226083371744,\n",
       " 0.01730792856540168,\n",
       " 0.013093979553704619,\n",
       " 0.009825961992281657,\n",
       " 0.0073139902582086275,\n",
       " 0.0054001839378267575,\n",
       " 0.0039549107074841995,\n",
       " 0.0028730155853118173,\n",
       " 0.0020701977129159326,\n",
       " 0.0014796456473162147,\n",
       " 0.001048999450817776,\n",
       " 0.0007376732477311366,\n",
       " 0.0005145452229054035,\n",
       " 0.00035600261383505815,\n",
       " 0.0002443161428825518,\n",
       " 0.00016631046343451003]"
      ]
     },
     "execution_count": 4,
     "metadata": {},
     "output_type": "execute_result"
    }
   ],
   "source": [
    "straight_tran_flux"
   ]
  },
  {
   "cell_type": "code",
   "execution_count": 23,
   "metadata": {},
   "outputs": [
    {
     "data": {
      "image/png": "[encoded data removed]",
      "text/plain": [
       "<Figure size 900x600 with 1 Axes>"
      ]
     },
     "metadata": {
      "needs_background": "light"
     },
     "output_type": "display_data"
    }
   ],
   "source": [
    "%matplotlib inline\n",
    "f = plt.figure(dpi=150)\n",
    "sim.plot2D(ax = f.gca())\n",
    "plt.show()"
   ]
  },
  {
   "cell_type": "code",
   "execution_count": 24,
   "metadata": {},
   "outputs": [
    {
     "name": "stdout",
     "output_type": "stream",
     "text": [
      "-----------\n",
      "Initializing structure...\n",
      "time for choose_chunkdivision = 0.000190973 s\n",
      "Working in 2D dimensions.\n",
      "Computational cell is 16 x 32 x 0 with resolution 10\n",
      "     block, center = (-2,-11.5,0)\n",
      "          size (12,1,1e+20)\n",
      "          axes (1,0,0), (0,1,0), (0,0,1)\n",
      "          dielectric constant epsilon diagonal = (12,12,12)\n",
      "     block, center = (3.5,2,0)\n",
      "          size (1,28,1e+20)\n",
      "          axes (1,0,0), (0,1,0), (0,0,1)\n",
      "          dielectric constant epsilon diagonal = (12,12,12)\n",
      "time for set_epsilon = 0.0924809 s\n",
      "-----------\n",
      "field decay(t = 50.050000000000004): 1.6976522694449004e-10 / 1.6976522694449004e-10 = 1.0\n",
      "field decay(t = 100.05000000000001): 4.691071063910547e-07 / 4.691071063910547e-07 = 1.0\n",
      "field decay(t = 150.1): 2.992872733686027e-07 / 4.691071063910547e-07 = 0.6379934758846145\n",
      "field decay(t = 200.15): 0.003927813565272278 / 0.003927813565272278 = 1.0\n",
      "field decay(t = 250.20000000000002): 0.00015009081939073963 / 0.003927813565272278 = 0.03821230740627967\n",
      "field decay(t = 300.2): 8.806226395700877e-11 / 0.003927813565272278 = 2.24201740977755e-08\n",
      "run 0 finished at t = 300.2 (6004 timesteps)\n"
     ]
    }
   ],
   "source": [
    "sim.reset_meep()\n",
    "\n",
    "geometry = [mp.Block(mp.Vector3(sx-pad,w,mp.inf), center=mp.Vector3(-0.5*pad,wvg_ycen), material=mp.Medium(epsilon=12)),\n",
    "            mp.Block(mp.Vector3(w,sy-pad,mp.inf), center=mp.Vector3(wvg_xcen,0.5*pad), material=mp.Medium(epsilon=12))]\n",
    "\n",
    "sim = mp.Simulation(cell_size=cell,\n",
    "                    boundary_layers=pml_layers,\n",
    "                    geometry=geometry,\n",
    "                    sources=sources,\n",
    "                    resolution=resolution)\n",
    "\n",
    "# reflected flux\n",
    "refl = sim.add_flux(fcen, df, nfreq, refl_fr)\n",
    "\n",
    "tran_fr = mp.FluxRegion(center=mp.Vector3(wvg_xcen,0.5*sy-dpml-0.5,0), size=mp.Vector3(2*w,0,0))\n",
    "tran = sim.add_flux(fcen, df, nfreq, tran_fr)\n",
    "\n",
    "# for normal run, load negated fields to subtract incident from refl. fields\n",
    "sim.load_minus_flux_data(refl, straight_refl_data)\n",
    "\n",
    "pt = mp.Vector3(wvg_xcen,0.5*sy-dpml-0.5)\n",
    "\n",
    "sim.run(until_after_sources=mp.stop_when_fields_decayed(50, mp.Ez, pt, 1e-3))\n",
    "\n",
    "bend_refl_flux = mp.get_fluxes(refl)\n",
    "bend_tran_flux = mp.get_fluxes(tran)\n",
    "\n",
    "flux_freqs = mp.get_flux_freqs(refl)"
   ]
  },
  {
   "cell_type": "code",
   "execution_count": 26,
   "metadata": {},
   "outputs": [
    {
     "data": {
      "image/png": "[encoded data removed]",
      "text/plain": [
       "<Figure size 432x288 with 1 Axes>"
      ]
     },
     "metadata": {
      "needs_background": "light"
     },
     "output_type": "display_data"
    }
   ],
   "source": [
    "wl = []\n",
    "Rs = []\n",
    "Ts = []\n",
    "for i in range(nfreq):\n",
    "    wl = np.append(wl, 1/flux_freqs[i])\n",
    "    Rs = np.append(Rs,-bend_refl_flux[i]/straight_tran_flux[i])\n",
    "    Ts = np.append(Ts,bend_tran_flux[i]/straight_tran_flux[i])    \n",
    "\n",
    "if mp.am_master():\n",
    "    plt.figure()\n",
    "    plt.plot(wl,Rs,'bo-',label='reflectance')\n",
    "    plt.plot(wl,Ts,'ro-',label='transmittance')\n",
    "    plt.plot(wl,1-Rs-Ts,'go-',label='loss')\n",
    "    plt.axis([5.0, 10.0, 0, 1])\n",
    "    plt.xlabel(\"wavelength (μm)\")\n",
    "    plt.legend(loc=\"upper right\")\n",
    "    plt.show()"
   ]
  },
  {
   "cell_type": "code",
   "execution_count": null,
   "metadata": {},
   "outputs": [],
   "source": []
  }
 ],
 "metadata": {
  "kernelspec": {
   "display_name": "meep",
   "language": "python",
   "name": "meep"
  },
  "language_info": {
   "codemirror_mode": {
    "name": "ipython",
    "version": 3
   },
   "file_extension": ".py",
   "mimetype": "text/x-python",
   "name": "python",
   "nbconvert_exporter": "python",
   "pygments_lexer": "ipython3",
   "version": "3.7.6"
  }
 },
 "nbformat": 4,
 "nbformat_minor": 4
}
