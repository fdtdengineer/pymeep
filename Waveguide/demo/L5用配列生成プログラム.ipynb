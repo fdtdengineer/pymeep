{
 "cells": [
  {
   "cell_type": "code",
   "execution_count": 28,
   "metadata": {},
   "outputs": [],
   "source": [
    "import numpy as np\n",
    "import meep as mp\n",
    "import matplotlib.pyplot as plt"
   ]
  },
  {
   "cell_type": "code",
   "execution_count": 62,
   "metadata": {},
   "outputs": [],
   "source": [
    "# L5 cavity 生成\n",
    "def unit_1(a, ny, nx, x_offset, y_offset, cavity, barrier, wgi, hole_shift):\n",
    "\ty_shift = a*np.sqrt(3)/2 # 0.3464\n",
    "\tx_shift = a\n",
    "\twgi_shift = (wgi-1)*a*np.sqrt(3)\n",
    "\toutput = list()\n",
    "\ty_center = y_offset - ny * y_shift\n",
    "\tx_center = x_offset - nx * x_shift / 2\n",
    "\n",
    "\tfor j in range(ny+1):\n",
    "\t\tfor i in range(nx+1):\n",
    "\t\t\tif 2*j == ny and abs(2*i - nx ) <= cavity - 1: #中央のcavityを作製\n",
    "\t\t\t\tcontinue\n",
    "\t\t\telif 2*j == ny - (barrier + 1) and 2*i <= nx - cavity - barrier - 6: #結合導波路 左（バリア領域の長さが奇数のとき）\n",
    "\t\t\t\tcontinue\n",
    "\t\t\telif 2*j == ny + (barrier + 1) and 2*i >= nx + cavity + barrier + 6: #結合導波路 右（バリア領域の長さが奇数のとき）\n",
    "\t\t\t\tcontinue\n",
    "\t\t\telse:\n",
    "\t\t\t\tif 2*j == ny and abs(2*i - nx ) == cavity + 1: #両脇のcavityの穴シフト\n",
    "\t\t\t\t\tx = x_center + x_shift*i + hole_shift*a*(2*i - nx)/abs(2*i - nx)\n",
    "\t\t\t\telse:\n",
    "\t\t\t\t\tx = x_center + x_shift*i\n",
    "\t\t\t\tif 2*j < ny - (barrier + 1) and 2*i <= nx - cavity - barrier - 6 + 1: #結合導波路 左 を (wgi-1)だけ下にシフト\n",
    "\t\t\t\t\ty = y_center + 2*y_shift *j - wgi_shift\n",
    "\t\t\t\telif 2*j > ny + (barrier + 1) and 2*i >= nx + cavity + barrier + 6 - 1:#結合導波路 右 を (wgi-1)だけ上にシフト\n",
    "\t\t\t\t\ty = y_center + 2*y_shift *j + wgi_shift\n",
    "\t\t\t\telse:\n",
    "\t\t\t\t\ty = y_center + 2*y_shift *j\n",
    "\t\t\t\toutput.append([x,y])\n",
    "\n",
    "\tfor j in range(ny):\n",
    "\t\tfor i in range(nx):\n",
    "\t\t\tif 2*j == ny - (barrier + 2) and 2*i <= nx - cavity - barrier - 6: #結合導波路 左（バリア領域の長さが偶数のとき）\n",
    "\t\t\t\tcontinue\n",
    "\t\t\telif 2*j == ny + barrier and 2*i >= nx + cavity + barrier + 4: #結合導波路 右（バリア領域の長さが偶数のとき）\n",
    "\t\t\t\tcontinue\n",
    "\t\t\telse:\n",
    "\t\t\t\tx = x_center + x_shift/2 + x_shift*i\n",
    "\t\t\t\tif 2*j < ny - (barrier + 2) and 2*i <= nx - cavity - barrier - 6 + 1: #結合導波路 左 を (wgi-1)だけ下にシフト\n",
    "\t\t\t\t\ty = y_center + y_shift + 2*y_shift *j - wgi_shift\n",
    "\t\t\t\telif 2*j > ny + barrier and 2*i >= nx + cavity + barrier + 4 - 1:\n",
    "\t\t\t\t\ty = y_center + y_shift + 2*y_shift *j + wgi_shift\n",
    "\t\t\t\telse:\n",
    "\t\t\t\t\ty = y_center + y_shift + 2*y_shift *j\n",
    "\t\t\t\toutput.append([x,y])\n",
    "\treturn output"
   ]
  },
  {
   "cell_type": "code",
   "execution_count": 68,
   "metadata": {},
   "outputs": [],
   "source": [
    "a=1\n",
    "\n",
    "nx=10\n",
    "ny=20\n",
    "cavity = 5\n",
    "barrier = 2\n",
    "wgi = 1.1\n",
    "hole_shift = 0.2\n",
    "\n",
    "x_offset = 0\n",
    "y_offset = 0"
   ]
  },
  {
   "cell_type": "code",
   "execution_count": 69,
   "metadata": {},
   "outputs": [],
   "source": [
    "tmp = np.array(unit_1(a, nx, ny, x_offset, y_offset, cavity, barrier, wgi, hole_shift))"
   ]
  },
  {
   "cell_type": "code",
   "execution_count": 70,
   "metadata": {},
   "outputs": [
    {
     "data": {
      "image/png": "[encoded data removed]",
      "text/plain": [
       "<Figure size 432x288 with 1 Axes>"
      ]
     },
     "metadata": {
      "needs_background": "light"
     },
     "output_type": "display_data"
    }
   ],
   "source": [
    "plt.scatter(tmp[:,0],tmp[:,1])\n",
    "plt.grid(True)"
   ]
  },
  {
   "cell_type": "code",
   "execution_count": 76,
   "metadata": {},
   "outputs": [
    {
     "data": {
      "text/plain": [
       "-8.660254037844386"
      ]
     },
     "execution_count": 76,
     "metadata": {},
     "output_type": "execute_result"
    }
   ],
   "source": [
    "tmp[6][1]"
   ]
  },
  {
   "cell_type": "code",
   "execution_count": null,
   "metadata": {},
   "outputs": [],
   "source": []
  }
 ],
 "metadata": {
  "kernelspec": {
   "display_name": "meep",
   "language": "python",
   "name": "meep"
  },
  "language_info": {
   "codemirror_mode": {
    "name": "ipython",
    "version": 3
   },
   "file_extension": ".py",
   "mimetype": "text/x-python",
   "name": "python",
   "nbconvert_exporter": "python",
   "pygments_lexer": "ipython3",
   "version": "3.7.6"
  }
 },
 "nbformat": 4,
 "nbformat_minor": 2
}
