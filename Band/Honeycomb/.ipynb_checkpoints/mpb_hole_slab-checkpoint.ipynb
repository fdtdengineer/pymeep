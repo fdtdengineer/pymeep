{
 "cells": [
  {
   "cell_type": "code",
   "execution_count": 5,
   "metadata": {},
   "outputs": [],
   "source": [
    "import math\n",
    "import meep as mp\n",
    "from meep import mpb\n",
    "\n",
    "import numpy as np\n",
    "import matplotlib.pyplot as plt"
   ]
  },
  {
   "cell_type": "code",
   "execution_count": 2,
   "metadata": {},
   "outputs": [],
   "source": [
    "h = 0.5  # the thickness of the slab\n",
    "eps = 12.0  # the dielectric constant of the slab\n",
    "loweps = 1.0  # the dielectric constant of the substrate\n",
    "r = 0.3  # the radius of the holes\n",
    "supercell_h = 4  # height of the supercell"
   ]
  },
  {
   "cell_type": "code",
   "execution_count": 3,
   "metadata": {},
   "outputs": [
    {
     "name": "stdout",
     "output_type": "stream",
     "text": [
      "Initializing eigensolver data\n",
      "Computing 9 bands with 1e-07 tolerance\n",
      "16 k-points\n",
      "  Vector3<0.0, 0.0, 0.0>\n",
      "  Vector3<0.0, 0.1, 0.0>\n",
      "  Vector3<0.0, 0.2, 0.0>\n",
      "  Vector3<0.0, 0.30000000000000004, 0.0>\n",
      "  Vector3<0.0, 0.4, 0.0>\n",
      "  Vector3<0.0, 0.5, 0.0>\n",
      "  Vector3<-0.06666666666666667, 0.4666666666666667, 0.0>\n",
      "  Vector3<-0.13333333333333333, 0.43333333333333335, 0.0>\n",
      "  Vector3<-0.2, 0.39999999999999997, 0.0>\n",
      "  Vector3<-0.26666666666666666, 0.36666666666666664, 0.0>\n",
      "  Vector3<-0.3333333333333333, 0.3333333333333333, 0.0>\n",
      "  Vector3<-0.26666666666666666, 0.26666666666666666, 0.0>\n",
      "  Vector3<-0.19999999999999998, 0.19999999999999998, 0.0>\n",
      "  Vector3<-0.1333333333333333, 0.1333333333333333, 0.0>\n",
      "  Vector3<-0.06666666666666665, 0.06666666666666665, 0.0>\n",
      "  Vector3<0.0, 0.0, 0.0>\n",
      "elapsed time for initialization: 0.15625715255737305\n",
      "elapsed time for k point: 4.411746263504028\n",
      "elapsed time for k point: 3.3593194484710693\n",
      "elapsed time for k point: 3.167640447616577\n",
      "elapsed time for k point: 3.3192477226257324\n",
      "elapsed time for k point: 13.75543475151062\n",
      "elapsed time for k point: 11.23028826713562\n",
      "elapsed time for k point: 3.95112943649292\n",
      "elapsed time for k point: 4.497403144836426\n",
      "elapsed time for k point: 24.7381329536438\n",
      "elapsed time for k point: 5.737356901168823\n",
      "elapsed time for k point: 4.5395190715789795\n",
      "Outputting fields to h.k11.b01.z.zeven.h5...\n",
      "Outputting fields to h.k11.b02.z.zeven.h5...\n",
      "Outputting fields to h.k11.b03.z.zeven.h5...\n",
      "Outputting fields to h.k11.b04.z.zeven.h5...\n",
      "Outputting fields to h.k11.b05.z.zeven.h5...\n",
      "Outputting fields to h.k11.b06.z.zeven.h5...\n",
      "Outputting fields to h.k11.b07.z.zeven.h5...\n",
      "Outputting fields to h.k11.b08.z.zeven.h5...\n",
      "Outputting fields to h.k11.b09.z.zeven.h5...\n",
      "elapsed time for k point: 25.146824836730957\n",
      "elapsed time for k point: 21.524316787719727\n",
      "elapsed time for k point: 3.5267550945281982\n",
      "elapsed time for k point: 2.822758436203003\n",
      "elapsed time for k point: 3.411720037460327\n",
      "Band 1 range: 0.0 at Vector3<0.0, 0.0, 0.0> to 0.26571798043503714 at Vector3<-0.3333333333333333, 0.3333333333333333, 0.0>\n",
      "Band 2 range: 0.17716135816080475 at Vector3<0.0, 0.0, 0.0> to 0.3791727902420308 at Vector3<-0.19999999999999998, 0.19999999999999998, 0.0>\n",
      "Band 3 range: 0.17721094397117954 at Vector3<0.0, 0.0, 0.0> to 0.41342799368561994 at Vector3<0.0, 0.4, 0.0>\n",
      "Band 4 range: 0.38513947942392374 at Vector3<0.0, 0.30000000000000004, 0.0> to 0.5134430439094085 at Vector3<-0.3333333333333333, 0.3333333333333333, 0.0>\n",
      "Band 5 range: 0.4112946999836103 at Vector3<0.0, 0.0, 0.0> to 0.5437800937881883 at Vector3<-0.06666666666666667, 0.4666666666666667, 0.0>\n",
      "Band 6 range: 0.4199714227792286 at Vector3<0.0, 0.0, 0.0> to 0.546185316161235 at Vector3<-0.13333333333333333, 0.43333333333333335, 0.0>\n",
      "Band 7 range: 0.46368509514579226 at Vector3<-0.06666666666666665, 0.06666666666666665, 0.0> to 0.5868840078140107 at Vector3<-0.3333333333333333, 0.3333333333333333, 0.0>\n",
      "Band 8 range: 0.4718365922153416 at Vector3<0.0, 0.1, 0.0> to 0.5870441694275293 at Vector3<-0.3333333333333333, 0.3333333333333333, 0.0>\n",
      "Band 9 range: 0.47562951625892713 at Vector3<0.0, 0.0, 0.0> to 0.6165673830565691 at Vector3<-0.2, 0.39999999999999997, 0.0>\n",
      "total elapsed time for run: 139.4744951725006\n",
      "done\n",
      "Initializing eigensolver data\n",
      "Computing 9 bands with 1e-07 tolerance\n",
      "16 k-points\n",
      "  Vector3<0.0, 0.0, 0.0>\n",
      "  Vector3<0.0, 0.1, 0.0>\n",
      "  Vector3<0.0, 0.2, 0.0>\n",
      "  Vector3<0.0, 0.30000000000000004, 0.0>\n",
      "  Vector3<0.0, 0.4, 0.0>\n",
      "  Vector3<0.0, 0.5, 0.0>\n",
      "  Vector3<-0.06666666666666667, 0.4666666666666667, 0.0>\n",
      "  Vector3<-0.13333333333333333, 0.43333333333333335, 0.0>\n",
      "  Vector3<-0.2, 0.39999999999999997, 0.0>\n",
      "  Vector3<-0.26666666666666666, 0.36666666666666664, 0.0>\n",
      "  Vector3<-0.3333333333333333, 0.3333333333333333, 0.0>\n",
      "  Vector3<-0.26666666666666666, 0.26666666666666666, 0.0>\n",
      "  Vector3<-0.19999999999999998, 0.19999999999999998, 0.0>\n",
      "  Vector3<-0.1333333333333333, 0.1333333333333333, 0.0>\n",
      "  Vector3<-0.06666666666666665, 0.06666666666666665, 0.0>\n",
      "  Vector3<0.0, 0.0, 0.0>\n",
      "elapsed time for initialization: 0.19842195510864258\n",
      "elapsed time for k point: 5.814240217208862\n",
      "elapsed time for k point: 7.910808563232422\n",
      "elapsed time for k point: 5.509012699127197\n",
      "elapsed time for k point: 3.8040823936462402\n",
      "elapsed time for k point: 36.570717573165894\n",
      "elapsed time for k point: 11.367257833480835\n",
      "elapsed time for k point: 7.001745223999023\n",
      "elapsed time for k point: 29.81427311897278\n",
      "elapsed time for k point: 6.025310039520264\n",
      "elapsed time for k point: 5.107063293457031\n",
      "elapsed time for k point: 4.534814119338989\n",
      "Outputting fields to d.k11.b01.z.zodd.h5...\n",
      "Outputting fields to d.k11.b02.z.zodd.h5...\n",
      "Outputting fields to d.k11.b03.z.zodd.h5...\n",
      "Outputting fields to d.k11.b04.z.zodd.h5...\n",
      "Outputting fields to d.k11.b05.z.zodd.h5...\n",
      "Outputting fields to d.k11.b06.z.zodd.h5...\n",
      "Outputting fields to d.k11.b07.z.zodd.h5...\n",
      "Outputting fields to d.k11.b08.z.zodd.h5...\n",
      "Outputting fields to d.k11.b09.z.zodd.h5...\n",
      "elapsed time for k point: 9.352091073989868\n",
      "elapsed time for k point: 7.376337051391602\n",
      "elapsed time for k point: 5.848780870437622\n",
      "elapsed time for k point: 4.407222747802734\n",
      "elapsed time for k point: 4.429677486419678\n",
      "Band 1 range: 0.0 at Vector3<0.0, 0.0, 0.0> to 0.3656855194274437 at Vector3<-0.3333333333333333, 0.3333333333333333, 0.0>\n",
      "Band 2 range: 0.23583546222542914 at Vector3<0.0, 0.0, 0.0> to 0.3792467130552784 at Vector3<-0.19999999999999998, 0.19999999999999998, 0.0>\n",
      "Band 3 range: 0.23587565483256206 at Vector3<0.0, 0.0, 0.0> to 0.41604075065952584 at Vector3<-0.06666666666666667, 0.4666666666666667, 0.0>\n",
      "Band 4 range: 0.38093160539178683 at Vector3<0.0, 0.0, 0.0> to 0.4345315439965243 at Vector3<0.0, 0.4, 0.0>\n",
      "Band 5 range: 0.38112207999268066 at Vector3<0.0, 0.0, 0.0> to 0.5010011283145611 at Vector3<-0.3333333333333333, 0.3333333333333333, 0.0>\n",
      "Band 6 range: 0.4249397037961835 at Vector3<0.0, 0.2, 0.0> to 0.5334142147954196 at Vector3<-0.06666666666666667, 0.4666666666666667, 0.0>\n",
      "Band 7 range: 0.44508725256805404 at Vector3<-0.1333333333333333, 0.1333333333333333, 0.0> to 0.5584031135340788 at Vector3<-0.3333333333333333, 0.3333333333333333, 0.0>\n",
      "Band 8 range: 0.46007996935995754 at Vector3<0.0, 0.0, 0.0> to 0.5680268837516766 at Vector3<-0.13333333333333333, 0.43333333333333335, 0.0>\n",
      "Band 9 range: 0.5119038191727471 at Vector3<-0.06666666666666665, 0.06666666666666665, 0.0> to 0.580011251570208 at Vector3<-0.13333333333333333, 0.43333333333333335, 0.0>\n",
      "total elapsed time for run: 155.23539185523987\n",
      "done\n",
      "eigensolver iterations for 32 kpoints: 9.0-96.0, mean = 28.1875, median = 16.5\n",
      "mean flops per iteration = 230897441.32594234\n",
      "mean time per iteration = 0.3267293647757655 s\n"
     ]
    }
   ],
   "source": [
    "geometry_lattice = mp.Lattice(size=mp.Vector3(1, 1, supercell_h),\n",
    "                              basis1=mp.Vector3(math.sqrt(3) / 2, 0.5),\n",
    "                              basis2=mp.Vector3(math.sqrt(3) / 2, -0.5))\n",
    "\n",
    "geometry = [\n",
    "    mp.Block(material=mp.Medium(epsilon=loweps), center=mp.Vector3(z=0.25 * supercell_h),\n",
    "             size=mp.Vector3(mp.inf, mp.inf, 0.5 * supercell_h)),\n",
    "    mp.Block(material=mp.Medium(epsilon=eps), size=mp.Vector3(mp.inf, mp.inf, h)),\n",
    "    mp.Cylinder(r, material=mp.air, height=supercell_h)\n",
    "]\n",
    "\n",
    "# 1st Brillouin zone of a triangular lattice:\n",
    "Gamma = mp.Vector3()\n",
    "M = mp.Vector3(y=0.5)\n",
    "K = mp.Vector3(1 / -3, 1 / 3)\n",
    "\n",
    "only_K = False  # run with only_K=true to only do this k_point\n",
    "k_interp = 4   # the number of k points to interpolate\n",
    "if only_K:\n",
    "    k_points = [K]\n",
    "else:\n",
    "    k_points = mp.interpolate(k_interp, [Gamma, M, K, Gamma])\n",
    "\n",
    "resolution = mp.Vector3(32, 32, 16)\n",
    "num_bands = 9\n",
    "\n",
    "ms = mpb.ModeSolver(\n",
    "    geometry_lattice=geometry_lattice,\n",
    "    geometry=geometry,\n",
    "    resolution=resolution,\n",
    "    num_bands=num_bands,\n",
    "    k_points=k_points\n",
    ")\n",
    "\n",
    "\n",
    "def main():\n",
    "    # Run even and odd bands, outputting fields only at the K point:\n",
    "    if loweps == 1.0:\n",
    "        # we only have even/odd classification for symmetric structure\n",
    "        ms.run_zeven(mpb.output_at_kpoint(K, mpb.output_hfield_z))\n",
    "        ms.run_zodd(mpb.output_at_kpoint(K, mpb.output_dfield_z))\n",
    "    else:\n",
    "        ms.run(mpb.output_at_kpoint(K, mpb.output_hfield_z), mpb.display_zparities)\n",
    "\n",
    "    ms.display_eigensolver_stats()\n",
    "\n",
    "if __name__ == '__main__':\n",
    "    main()"
   ]
  },
  {
   "cell_type": "code",
   "execution_count": 35,
   "metadata": {},
   "outputs": [
    {
     "name": "stdout",
     "output_type": "stream",
     "text": [
      "(96, 83, 384)\n"
     ]
    },
    {
     "data": {
      "text/plain": [
       "(96, 83)"
      ]
     },
     "execution_count": 35,
     "metadata": {},
     "output_type": "execute_result"
    }
   ],
   "source": [
    "md = mpb.MPBData(rectify=True, periods=3, resolution=32)\n",
    "eps = ms.get_epsilon()\n",
    "converted_eps = md.convert(eps)\n",
    "print(converted_eps.shape)\n",
    "converted_eps[:,:,0].shape"
   ]
  },
  {
   "cell_type": "code",
   "execution_count": 36,
   "metadata": {},
   "outputs": [],
   "source": [
    "import csv\n",
    "with open('file.csv', 'wt') as f:\n",
    "    writer = csv.writer(f)\n",
    "    writer.writerows(converted_eps[:,:,0])"
   ]
  },
  {
   "cell_type": "code",
   "execution_count": 39,
   "metadata": {},
   "outputs": [
    {
     "data": {
      "image/png": "[encoded data removed]",
      "text/plain": [
       "<Figure size 432x288 with 1 Axes>"
      ]
     },
     "metadata": {
      "needs_background": "light"
     },
     "output_type": "display_data"
    }
   ],
   "source": [
    "plt.imshow(converted_eps[0].T, interpolation='spline36', cmap='binary')\n",
    "plt.axis('off')\n",
    "plt.show()"
   ]
  },
  {
   "cell_type": "code",
   "execution_count": 18,
   "metadata": {},
   "outputs": [
    {
     "name": "stdout",
     "output_type": "stream",
     "text": [
      "Initializing eigensolver data\n",
      "Computing 9 bands with 1e-07 tolerance\n",
      "16 k-points\n",
      "  Vector3<0.0, 0.0, 0.0>\n",
      "  Vector3<0.0, 0.1, 0.0>\n",
      "  Vector3<0.0, 0.2, 0.0>\n",
      "  Vector3<0.0, 0.30000000000000004, 0.0>\n",
      "  Vector3<0.0, 0.4, 0.0>\n",
      "  Vector3<0.0, 0.5, 0.0>\n",
      "  Vector3<-0.06666666666666667, 0.4666666666666667, 0.0>\n",
      "  Vector3<-0.13333333333333333, 0.43333333333333335, 0.0>\n",
      "  Vector3<-0.2, 0.39999999999999997, 0.0>\n",
      "  Vector3<-0.26666666666666666, 0.36666666666666664, 0.0>\n",
      "  Vector3<-0.3333333333333333, 0.3333333333333333, 0.0>\n",
      "  Vector3<-0.26666666666666666, 0.26666666666666666, 0.0>\n",
      "  Vector3<-0.19999999999999998, 0.19999999999999998, 0.0>\n",
      "  Vector3<-0.1333333333333333, 0.1333333333333333, 0.0>\n",
      "  Vector3<-0.06666666666666665, 0.06666666666666665, 0.0>\n",
      "  Vector3<0.0, 0.0, 0.0>\n",
      "elapsed time for initialization: 0.16902732849121094\n",
      "elapsed time for k point: 4.65980863571167\n",
      "elapsed time for k point: 3.4187159538269043\n",
      "elapsed time for k point: 3.1228463649749756\n",
      "elapsed time for k point: 3.3493716716766357\n",
      "elapsed time for k point: 13.810612201690674\n",
      "elapsed time for k point: 11.699994325637817\n",
      "elapsed time for k point: 4.000386714935303\n",
      "elapsed time for k point: 4.589736461639404\n",
      "elapsed time for k point: 24.694282054901123\n",
      "elapsed time for k point: 5.73797869682312\n",
      "elapsed time for k point: 4.746753454208374\n",
      "elapsed time for k point: 26.080103874206543\n",
      "elapsed time for k point: 25.80132031440735\n",
      "elapsed time for k point: 4.2657880783081055\n",
      "elapsed time for k point: 3.903449773788452\n",
      "elapsed time for k point: 4.796104431152344\n",
      "Band 1 range: 0.0 at Vector3<0.0, 0.0, 0.0> to 0.26571798043503725 at Vector3<-0.3333333333333333, 0.3333333333333333, 0.0>\n",
      "Band 2 range: 0.17716135792106433 at Vector3<0.0, 0.0, 0.0> to 0.3791727902420308 at Vector3<-0.19999999999999998, 0.19999999999999998, 0.0>\n",
      "Band 3 range: 0.17721094397117937 at Vector3<0.0, 0.0, 0.0> to 0.41342799368562066 at Vector3<0.0, 0.4, 0.0>\n",
      "Band 4 range: 0.3851394794239213 at Vector3<0.0, 0.30000000000000004, 0.0> to 0.5134430439094081 at Vector3<-0.3333333333333333, 0.3333333333333333, 0.0>\n",
      "Band 5 range: 0.41129469973303573 at Vector3<0.0, 0.0, 0.0> to 0.5437800937881884 at Vector3<-0.06666666666666667, 0.4666666666666667, 0.0>\n",
      "Band 6 range: 0.4199714227792276 at Vector3<0.0, 0.0, 0.0> to 0.546185316161234 at Vector3<-0.13333333333333333, 0.43333333333333335, 0.0>\n",
      "Band 7 range: 0.4636850951457918 at Vector3<-0.06666666666666665, 0.06666666666666665, 0.0> to 0.5868840078140116 at Vector3<-0.3333333333333333, 0.3333333333333333, 0.0>\n",
      "Band 8 range: 0.47183659221499286 at Vector3<0.0, 0.1, 0.0> to 0.5870441694275307 at Vector3<-0.3333333333333333, 0.3333333333333333, 0.0>\n",
      "Band 9 range: 0.4756295062295125 at Vector3<0.0, 0.0, 0.0> to 0.6165673830565674 at Vector3<-0.2, 0.39999999999999997, 0.0>\n",
      "total elapsed time for run: 148.85426783561707\n",
      "done\n"
     ]
    }
   ],
   "source": [
    "tm_freqs = ms.all_freqs\n",
    "tm_gaps = ms.gap_list\n",
    "te_freqs = ms.all_freqs\n",
    "te_gaps = ms.gap_list"
   ]
  },
  {
   "cell_type": "code",
   "execution_count": 19,
   "metadata": {},
   "outputs": [
    {
     "data": {
      "image/png": "[encoded data removed]",
      "text/plain": [
       "<Figure size 432x288 with 1 Axes>"
      ]
     },
     "metadata": {
      "needs_background": "light"
     },
     "output_type": "display_data"
    }
   ],
   "source": [
    "fig, ax = plt.subplots()\n",
    "\n",
    "x = range(len(tm_freqs))\n",
    "# Plot bands\n",
    "# Scatter plot for multiple y values, see https://stackoverflow.com/a/34280815/2261298\n",
    "for xz, tmz, tez in zip(x, tm_freqs, te_freqs):\n",
    "    ax.scatter([xz]*len(tmz), tmz, color='blue')\n",
    "    ax.scatter([xz]*len(tez), tez, color='red', facecolors='none')\n",
    "ax.plot(tm_freqs, color='blue')\n",
    "ax.plot(te_freqs, color='red')\n",
    "ax.set_ylim([0, 1])\n",
    "ax.set_xlim([x[0], x[-1]])\n",
    "\n",
    "# Plot gaps\n",
    "for gap in tm_gaps:\n",
    "    if gap[0] > 1:\n",
    "        ax.fill_between(x, gap[1], gap[2], color='blue', alpha=0.2)\n",
    "\n",
    "for gap in te_gaps:\n",
    "    if gap[0] > 1:\n",
    "        ax.fill_between(x, gap[1], gap[2], color='red', alpha=0.2)\n",
    "\n",
    "\n",
    "# Plot labels\n",
    "ax.text(12, 0.04, 'TM bands', color='blue', size=15)\n",
    "ax.text(13.05, 0.235, 'TE bands', color='red', size=15)\n",
    "\n",
    "points_in_between = (len(tm_freqs) - 4) / 3\n",
    "tick_locs = [i*points_in_between+i for i in range(4)]\n",
    "tick_labs = ['Γ', 'X', 'M', 'Γ']\n",
    "ax.set_xticks(tick_locs)\n",
    "ax.set_xticklabels(tick_labs, size=16)\n",
    "ax.set_ylabel('frequency (c/a)', size=16)\n",
    "ax.grid(True)\n",
    "\n",
    "plt.show()"
   ]
  },
  {
   "cell_type": "code",
   "execution_count": null,
   "metadata": {},
   "outputs": [],
   "source": []
  }
 ],
 "metadata": {
  "kernelspec": {
   "display_name": "Environment (conda_mp)",
   "language": "python",
   "name": "conda_mp"
  },
  "language_info": {
   "codemirror_mode": {
    "name": "ipython",
    "version": 3
   },
   "file_extension": ".py",
   "mimetype": "text/x-python",
   "name": "python",
   "nbconvert_exporter": "python",
   "pygments_lexer": "ipython3",
   "version": "3.6.7"
  }
 },
 "nbformat": 4,
 "nbformat_minor": 2
}
